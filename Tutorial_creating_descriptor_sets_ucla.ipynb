{
 "cells": [
  {
   "cell_type": "markdown",
   "metadata": {},
   "source": [
    "### Import classes from autoqchem"
   ]
  },
  {
   "cell_type": "code",
   "execution_count": null,
   "metadata": {
    "ExecuteTime": {
     "start_time": "2023-05-19T15:48:18.206862Z",
     "end_time": "2023-05-19T15:48:18.213268Z"
    }
   },
   "outputs": [],
   "source": [
    "from autoqchem.molecule import molecule\n",
    "from autoqchem.sge_manager import sge_manager\n",
    "from autoqchem.draw_utils import draw"
   ]
  },
  {
   "cell_type": "markdown",
   "metadata": {},
   "source": [
    "### Set the level of logging\n",
    "Autoqchem prints out log messages, while the logger has various verbosity levels that you can set. If you are running for the first time \"INFO\" is good, once you are comfortable you can switch it to \"WARNING\" or \"ERROR\"."
   ]
  },
  {
   "cell_type": "code",
   "execution_count": null,
   "metadata": {
    "ExecuteTime": {
     "start_time": "2023-05-19T15:48:19.936532Z",
     "end_time": "2023-05-19T15:48:19.940579Z"
    }
   },
   "outputs": [],
   "source": [
    "import logging\n",
    "logging.basicConfig(level=logging.INFO)"
   ]
  },
  {
   "cell_type": "markdown",
   "metadata": {},
   "source": [
    "We will use a single smiles string for this test"
   ]
  },
  {
   "cell_type": "code",
   "execution_count": null,
   "metadata": {
    "ExecuteTime": {
     "start_time": "2023-05-19T15:56:36.914799Z",
     "end_time": "2023-05-19T15:56:36.922344Z"
    }
   },
   "outputs": [],
   "source": [
    "smiles_str_list = ['CC', 'CCC']"
   ]
  },
  {
   "cell_type": "markdown",
   "metadata": {},
   "source": [
    "### Initialize the molecule from smiles\n",
    "default <code>num_conf=5</code>, which generates 5 conformers for each molecule.\n",
    "for simple molecules this is enough, but you can change it with <code>num_conf</code>"
   ]
  },
  {
   "cell_type": "code",
   "execution_count": null,
   "metadata": {
    "ExecuteTime": {
     "start_time": "2023-05-19T15:56:38.292790Z",
     "end_time": "2023-05-19T15:56:38.304285Z"
    }
   },
   "outputs": [],
   "source": [
    "mols = [molecule(s) for s in smiles_str_list]\n",
    "#mols = [molecule(s, num_conf=10) for s in smiles_str_list]"
   ]
  },
  {
   "cell_type": "markdown",
   "metadata": {},
   "source": [
    "### Draw it!\n",
    "It should look decent, OpenBabel performs MMFF94 optimization with a conformer search. If it doesn't look good, there might be issues with openbabel installation (this is rare, but can happen)."
   ]
  },
  {
   "cell_type": "code",
   "execution_count": null,
   "metadata": {
    "ExecuteTime": {
     "start_time": "2023-05-19T15:56:40.990012Z",
     "end_time": "2023-05-19T15:56:41.025105Z"
    }
   },
   "outputs": [],
   "source": [
    "draw(mols[0].mol)"
   ]
  },
  {
   "cell_type": "markdown",
   "metadata": {},
   "source": [
    "### Test whether you can access SGE on Hoffman2 at UCLA\n",
    "If you have an account on Hoffman2, change host to ```hoffman2.idre.ucla.edu```."
   ]
  },
  {
   "cell_type": "markdown",
   "metadata": {},
   "source": [
    "### Initialize the sge manager\n",
    "change user parameter to your user"
   ]
  },
  {
   "cell_type": "code",
   "execution_count": null,
   "metadata": {
    "ExecuteTime": {
     "start_time": "2023-05-19T15:56:48.378746Z",
     "end_time": "2023-05-19T15:56:48.389604Z"
    }
   },
   "outputs": [],
   "source": [
    "sm = sge_manager(user='wang10', host='hoffman2.idre.ucla.edu')"
   ]
  },
  {
   "cell_type": "markdown",
   "metadata": {},
   "source": [
    "### Verify that you can create an ssh tunnel into the remote server\n",
    "Follow prompts for password and duo authentication. This tunnel will be used to manage jobs from within the notebook"
   ]
  },
  {
   "cell_type": "code",
   "execution_count": null,
   "metadata": {
    "ExecuteTime": {
     "start_time": "2023-05-19T15:56:54.827718Z",
     "end_time": "2023-05-19T15:57:02.982253Z"
    }
   },
   "outputs": [],
   "source": [
    "sm.connect()"
   ]
  },
  {
   "cell_type": "markdown",
   "metadata": {},
   "source": [
    "### Check that you can see your jobs on the remote server\n",
    "If the following command returns a table with your jobs currently running on the server, it's a success. If you have no jobs running, only a header row will be displayed."
   ]
  },
  {
   "cell_type": "code",
   "execution_count": null,
   "metadata": {
    "ExecuteTime": {
     "start_time": "2023-05-19T15:57:04.722566Z",
     "end_time": "2023-05-19T15:57:05.300941Z"
    }
   },
   "outputs": [],
   "source": [
    "sm.qstat(summary=False)"
   ]
  },
  {
   "cell_type": "markdown",
   "source": [
    "### create job files locally"
   ],
   "metadata": {
    "collapsed": false
   }
  },
  {
   "cell_type": "code",
   "execution_count": null,
   "metadata": {
    "ExecuteTime": {
     "start_time": "2023-05-19T15:57:35.554307Z",
     "end_time": "2023-05-19T15:57:36.266902Z"
    }
   },
   "outputs": [],
   "source": [
    "for mol in mols:\n",
    "    sm.create_jobs_for_molecule(mol, light_basis_set='6-31G**', solvent='DMSO')"
   ]
  },
  {
   "cell_type": "markdown",
   "source": [
    "### submit jobs to cluster"
   ],
   "metadata": {
    "collapsed": false
   }
  },
  {
   "cell_type": "code",
   "execution_count": null,
   "outputs": [],
   "source": [
    "sm.submit_jobs()"
   ],
   "metadata": {
    "collapsed": false,
    "ExecuteTime": {
     "start_time": "2023-05-19T15:57:41.498824Z",
     "end_time": "2023-05-19T15:57:43.690322Z"
    }
   }
  },
  {
   "cell_type": "markdown",
   "source": [
    "### check stat again, you can see all jobs submitted to cluster"
   ],
   "metadata": {
    "collapsed": false
   }
  },
  {
   "cell_type": "code",
   "execution_count": null,
   "outputs": [],
   "source": [
    "sm.qstat(summary=False)"
   ],
   "metadata": {
    "collapsed": false,
    "ExecuteTime": {
     "start_time": "2023-05-19T16:09:04.690140Z",
     "end_time": "2023-05-19T16:09:05.346700Z"
    }
   }
  },
  {
   "cell_type": "markdown",
   "source": [
    "### retrieve done jobs"
   ],
   "metadata": {
    "collapsed": false
   }
  },
  {
   "cell_type": "code",
   "execution_count": null,
   "outputs": [],
   "source": [
    "sm.retrieve_jobs()"
   ],
   "metadata": {
    "collapsed": false,
    "ExecuteTime": {
     "start_time": "2023-05-19T16:09:06.594596Z",
     "end_time": "2023-05-19T16:09:09.238863Z"
    }
   }
  },
  {
   "cell_type": "markdown",
   "source": [
    "### upload finished calculations"
   ],
   "metadata": {
    "collapsed": false
   }
  },
  {
   "cell_type": "code",
   "execution_count": null,
   "outputs": [],
   "source": [
    "sm.upload_done_molecules_to_db(tags=[\"test_WCG\"])"
   ],
   "metadata": {
    "collapsed": false,
    "ExecuteTime": {
     "start_time": "2023-05-19T16:09:11.518360Z",
     "end_time": "2023-05-19T16:09:18.365042Z"
    }
   }
  },
  {
   "cell_type": "code",
   "execution_count": null,
   "outputs": [],
   "source": [],
   "metadata": {
    "collapsed": false
   }
  }
 ],
 "metadata": {
  "kernelspec": {
   "display_name": "Python 3.9.13 64-bit ('3.9.13')",
   "language": "python",
   "name": "python3"
  },
  "language_info": {
   "codemirror_mode": {
    "name": "ipython",
    "version": 3
   },
   "file_extension": ".py",
   "mimetype": "text/x-python",
   "name": "python",
   "nbconvert_exporter": "python",
   "pygments_lexer": "ipython3",
   "version": "3.9.13"
  },
  "vscode": {
   "interpreter": {
    "hash": "75934cf67ebde6f7dd5cca3b6d679ee9d52aabd0098557c6f9034056a96918b4"
   }
  }
 },
 "nbformat": 4,
 "nbformat_minor": 2
}
