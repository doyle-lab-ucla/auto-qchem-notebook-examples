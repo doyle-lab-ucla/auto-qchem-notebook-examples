{
 "cells": [
  {
   "cell_type": "markdown",
   "metadata": {},
   "source": [
    "### Import classes from autoqchem"
   ]
  },
  {
   "cell_type": "code",
   "execution_count": 1,
   "metadata": {
    "ExecuteTime": {
     "end_time": "2023-05-19T15:48:18.213268Z",
     "start_time": "2023-05-19T15:48:18.206862Z"
    }
   },
   "outputs": [],
   "source": [
    "from autoqchem.molecule import molecule\n",
    "from autoqchem.sge_manager import sge_manager\n",
    "from autoqchem.draw_utils import draw"
   ]
  },
  {
   "cell_type": "code",
   "execution_count": 2,
   "metadata": {},
   "outputs": [
    {
     "name": "stdout",
     "output_type": "stream",
     "text": [
      "# packages in environment at /opt/anaconda3/envs/autoqchem-test:\r\n",
      "#\r\n",
      "# Name                    Version                   Build  Channel\r\n",
      "auto-qchem                1.3.2                     dev_0    <develop>\r\n"
     ]
    }
   ],
   "source": [
    "! conda list auto-qchem"
   ]
  },
  {
   "cell_type": "markdown",
   "metadata": {},
   "source": [
    "### Set the level of logging\n",
    "Autoqchem prints out log messages, while the logger has various verbosity levels that you can set. If you are running for the first time \"INFO\" is good, once you are comfortable you can switch it to \"WARNING\" or \"ERROR\"."
   ]
  },
  {
   "cell_type": "code",
   "execution_count": null,
   "metadata": {
    "ExecuteTime": {
     "end_time": "2023-05-19T15:48:19.940579Z",
     "start_time": "2023-05-19T15:48:19.936532Z"
    }
   },
   "outputs": [],
   "source": [
    "import logging\n",
    "logging.basicConfig(level=logging.INFO)"
   ]
  },
  {
   "cell_type": "markdown",
   "metadata": {},
   "source": [
    "We will use a single smiles string for this test"
   ]
  },
  {
   "cell_type": "code",
   "execution_count": null,
   "metadata": {
    "ExecuteTime": {
     "end_time": "2023-05-19T15:56:36.922344Z",
     "start_time": "2023-05-19T15:56:36.914799Z"
    }
   },
   "outputs": [],
   "source": [
    "smiles_str_list = ['CC', 'CCC']"
   ]
  },
  {
   "cell_type": "markdown",
   "metadata": {},
   "source": [
    "### Initialize the molecule from smiles\n",
    "default <code>num_conf=5</code>, which generates 5 conformers for each molecule.\n",
    "for simple molecules this is enough, but you can change it with <code>num_conf</code>"
   ]
  },
  {
   "cell_type": "code",
   "execution_count": null,
   "metadata": {
    "ExecuteTime": {
     "end_time": "2023-05-19T15:56:38.304285Z",
     "start_time": "2023-05-19T15:56:38.292790Z"
    }
   },
   "outputs": [],
   "source": [
    "mols = [molecule(s) for s in smiles_str_list]\n",
    "#mols = [molecule(s, num_conf=10) for s in smiles_str_list]"
   ]
  },
  {
   "cell_type": "markdown",
   "metadata": {},
   "source": [
    "Side note: sometimes rdkit cannot handle the conformer generation of large molecules, especially if they have long alkyl chains. e.g."
   ]
  },
  {
   "cell_type": "code",
   "execution_count": 6,
   "metadata": {},
   "outputs": [],
   "source": [
    "big_s = 'CCCCCCCCC1=CC2=CC(C3=CN(C45CC6CC(C5)CC(C4)C6)N=N3)=C7OP(O)(OC8=C(C7=C2C=C1)C9=CC=C(C=C9C=C8C%10=CN(C%11%12CC%13CC(C%12)CC(C%11)C%13)N=N%10)CCCCCCCC)=O'"
   ]
  },
  {
   "cell_type": "code",
   "execution_count": 7,
   "metadata": {},
   "outputs": [
    {
     "ename": "ValueError",
     "evalue": "Bad Conformer Id",
     "output_type": "error",
     "traceback": [
      "\u001B[0;31m---------------------------------------------------------------------------\u001B[0m",
      "\u001B[0;31mValueError\u001B[0m                                Traceback (most recent call last)",
      "Cell \u001B[0;32mIn[7], line 1\u001B[0m\n\u001B[0;32m----> 1\u001B[0m big_mol \u001B[38;5;241m=\u001B[39m \u001B[43mmolecule\u001B[49m\u001B[43m(\u001B[49m\u001B[43mbig_s\u001B[49m\u001B[43m)\u001B[49m\n",
      "File \u001B[0;32m~/Desktop/general-code/doyle-lab-ucla/auto-qchem/autoqchem/molecule.py:48\u001B[0m, in \u001B[0;36mmolecule.__init__\u001B[0;34m(self, smiles, num_conf, engine, rdkit_ff, ob_gen3D_option, large_mol)\u001B[0m\n\u001B[1;32m     43\u001B[0m \u001B[38;5;66;03m# run conformer generation\u001B[39;00m\n\u001B[1;32m     44\u001B[0m \u001B[38;5;28;01mif\u001B[39;00m engine \u001B[38;5;241m==\u001B[39m \u001B[38;5;124m'\u001B[39m\u001B[38;5;124mrdkit\u001B[39m\u001B[38;5;124m'\u001B[39m:\n\u001B[1;32m     45\u001B[0m     \u001B[38;5;28mself\u001B[39m\u001B[38;5;241m.\u001B[39melements, \\\n\u001B[1;32m     46\u001B[0m     \u001B[38;5;28mself\u001B[39m\u001B[38;5;241m.\u001B[39mconformer_coordinates, \\\n\u001B[1;32m     47\u001B[0m     \u001B[38;5;28mself\u001B[39m\u001B[38;5;241m.\u001B[39mconnectivity_matrix, \\\n\u001B[0;32m---> 48\u001B[0m     \u001B[38;5;28mself\u001B[39m\u001B[38;5;241m.\u001B[39mcharges \u001B[38;5;241m=\u001B[39m \u001B[43mgenerate_conformations_from_rdkit\u001B[49m\u001B[43m(\u001B[49m\u001B[43msmiles\u001B[49m\u001B[38;5;241;43m=\u001B[39;49m\u001B[43msmiles\u001B[49m\u001B[43m,\u001B[49m\u001B[43m \u001B[49m\u001B[43mnum_conf\u001B[49m\u001B[38;5;241;43m=\u001B[39;49m\u001B[43mnum_conf\u001B[49m\u001B[43m,\u001B[49m\u001B[43m \u001B[49m\u001B[43mrdkit_ff\u001B[49m\u001B[38;5;241;43m=\u001B[39;49m\u001B[43mrdkit_ff\u001B[49m\u001B[43m,\u001B[49m\u001B[43m \u001B[49m\u001B[43mlarge_mol\u001B[49m\u001B[38;5;241;43m=\u001B[39;49m\u001B[43mlarge_mol\u001B[49m\u001B[43m)\u001B[49m\n\u001B[1;32m     50\u001B[0m \u001B[38;5;28;01melif\u001B[39;00m engine \u001B[38;5;241m==\u001B[39m \u001B[38;5;124m'\u001B[39m\u001B[38;5;124mopenbabel\u001B[39m\u001B[38;5;124m'\u001B[39m:\n\u001B[1;32m     51\u001B[0m     \u001B[38;5;28mself\u001B[39m\u001B[38;5;241m.\u001B[39melements, \\\n\u001B[1;32m     52\u001B[0m     \u001B[38;5;28mself\u001B[39m\u001B[38;5;241m.\u001B[39mconformer_coordinates, \\\n\u001B[1;32m     53\u001B[0m     \u001B[38;5;28mself\u001B[39m\u001B[38;5;241m.\u001B[39mconnectivity_matrix, \\\n\u001B[1;32m     54\u001B[0m     \u001B[38;5;28mself\u001B[39m\u001B[38;5;241m.\u001B[39mcharges \u001B[38;5;241m=\u001B[39m generate_conformations_from_openbabel(smiles\u001B[38;5;241m=\u001B[39msmiles, num_conf\u001B[38;5;241m=\u001B[39mnum_conf,\n\u001B[1;32m     55\u001B[0m                                                          ob_gen3D_option\u001B[38;5;241m=\u001B[39mob_gen3D_option)\n",
      "File \u001B[0;32m~/Desktop/general-code/doyle-lab-ucla/auto-qchem/autoqchem/rdkit_utils.py:142\u001B[0m, in \u001B[0;36mgenerate_conformations_from_rdkit\u001B[0;34m(smiles, num_conf, rdkit_ff, large_mol)\u001B[0m\n\u001B[1;32m    140\u001B[0m AllChem\u001B[38;5;241m.\u001B[39mEmbedMultipleConfs(rdmol, num_conf, params)\n\u001B[1;32m    141\u001B[0m \u001B[38;5;28;01mif\u001B[39;00m rdkit_ff \u001B[38;5;241m==\u001B[39m \u001B[38;5;124m\"\u001B[39m\u001B[38;5;124mMMFF94\u001B[39m\u001B[38;5;124m\"\u001B[39m:\n\u001B[0;32m--> 142\u001B[0m     \u001B[43mAllChem\u001B[49m\u001B[38;5;241;43m.\u001B[39;49m\u001B[43mMMFFOptimizeMoleculeConfs\u001B[49m\u001B[43m(\u001B[49m\u001B[43mrdmol\u001B[49m\u001B[43m,\u001B[49m\u001B[43m \u001B[49m\u001B[43mmmffVariant\u001B[49m\u001B[38;5;241;43m=\u001B[39;49m\u001B[38;5;124;43m\"\u001B[39;49m\u001B[38;5;124;43mMMFF94\u001B[39;49m\u001B[38;5;124;43m\"\u001B[39;49m\u001B[43m,\u001B[49m\u001B[43m \u001B[49m\u001B[43mnumThreads\u001B[49m\u001B[38;5;241;43m=\u001B[39;49m\u001B[43mn_threads\u001B[49m\u001B[43m)\u001B[49m\n\u001B[1;32m    143\u001B[0m \u001B[38;5;28;01melif\u001B[39;00m rdkit_ff \u001B[38;5;241m==\u001B[39m \u001B[38;5;124m\"\u001B[39m\u001B[38;5;124mMMFF94s\u001B[39m\u001B[38;5;124m\"\u001B[39m:\n\u001B[1;32m    144\u001B[0m     AllChem\u001B[38;5;241m.\u001B[39mMMFFOptimizeMoleculeConfs(rdmol, mmffVariant\u001B[38;5;241m=\u001B[39m\u001B[38;5;124m\"\u001B[39m\u001B[38;5;124mMMFF94s\u001B[39m\u001B[38;5;124m\"\u001B[39m, numThreads\u001B[38;5;241m=\u001B[39mn_threads)\n",
      "\u001B[0;31mValueError\u001B[0m: Bad Conformer Id"
     ]
    }
   ],
   "source": [
    "big_mol = molecule(big_s)  # bad conformer id means that 0 conformers were generated by rdkit"
   ]
  },
  {
   "cell_type": "markdown",
   "metadata": {},
   "source": [
    "If you see errors like this, specify `large_mol=True` when you build molecule. Autoqchem will try something else"
   ]
  },
  {
   "cell_type": "code",
   "execution_count": 9,
   "metadata": {},
   "outputs": [
    {
     "data": {
      "application/vnd.jupyter.widget-view+json": {
       "model_id": "5d564586984c42239b86319cf47eb0da",
       "version_major": 2,
       "version_minor": 0
      },
      "text/plain": [
       "interactive(children=(Dropdown(description='confId', options=(0, 1, 2, 3, 4), value=0), Output()), _dom_classe…"
      ]
     },
     "metadata": {},
     "output_type": "display_data"
    },
    {
     "data": {
      "text/plain": [
       "<function autoqchem.draw_utils._graph_conf(m, confId=0, energies=[])>"
      ]
     },
     "execution_count": 9,
     "metadata": {},
     "output_type": "execute_result"
    }
   ],
   "source": [
    "big_mol = molecule(big_s, large_mol=True)  # no more errors\n",
    "draw(big_mol.mol)"
   ]
  },
  {
   "cell_type": "markdown",
   "metadata": {},
   "source": [
    "### Draw it!\n",
    "It should look decent, OpenBabel performs MMFF94 optimization with a conformer search. If it doesn't look good, there might be issues with openbabel installation (this is rare, but can happen)."
   ]
  },
  {
   "cell_type": "code",
   "execution_count": null,
   "metadata": {
    "ExecuteTime": {
     "end_time": "2023-05-19T15:56:41.025105Z",
     "start_time": "2023-05-19T15:56:40.990012Z"
    }
   },
   "outputs": [],
   "source": [
    "draw(mols[0].mol)"
   ]
  },
  {
   "cell_type": "markdown",
   "metadata": {},
   "source": [
    "### Test whether you can access SGE on Hoffman2 at UCLA\n",
    "If you have an account on Hoffman2, change host to ```hoffman2.idre.ucla.edu```."
   ]
  },
  {
   "cell_type": "markdown",
   "metadata": {},
   "source": [
    "### Initialize the sge manager\n",
    "change user parameter to your user"
   ]
  },
  {
   "cell_type": "code",
   "execution_count": null,
   "metadata": {
    "ExecuteTime": {
     "end_time": "2023-05-19T15:56:48.389604Z",
     "start_time": "2023-05-19T15:56:48.378746Z"
    }
   },
   "outputs": [],
   "source": [
    "sm = sge_manager(user='wang10', host='hoffman2.idre.ucla.edu')"
   ]
  },
  {
   "cell_type": "markdown",
   "metadata": {},
   "source": [
    "### Verify that you can create an ssh tunnel into the remote server\n",
    "Follow prompts for password and duo authentication. This tunnel will be used to manage jobs from within the notebook"
   ]
  },
  {
   "cell_type": "code",
   "execution_count": null,
   "metadata": {
    "ExecuteTime": {
     "end_time": "2023-05-19T15:57:02.982253Z",
     "start_time": "2023-05-19T15:56:54.827718Z"
    }
   },
   "outputs": [],
   "source": [
    "sm.connect()"
   ]
  },
  {
   "cell_type": "markdown",
   "metadata": {},
   "source": [
    "### Check that you can see your jobs on the remote server\n",
    "If the following command returns a table with your jobs currently running on the server, it's a success. If you have no jobs running, only a header row will be displayed."
   ]
  },
  {
   "cell_type": "code",
   "execution_count": null,
   "metadata": {
    "ExecuteTime": {
     "end_time": "2023-05-19T15:57:05.300941Z",
     "start_time": "2023-05-19T15:57:04.722566Z"
    }
   },
   "outputs": [],
   "source": [
    "sm.qstat(summary=False)"
   ]
  },
  {
   "cell_type": "markdown",
   "metadata": {},
   "source": [
    "### create job files locally"
   ]
  },
  {
   "cell_type": "code",
   "execution_count": null,
   "metadata": {
    "ExecuteTime": {
     "end_time": "2023-05-19T15:57:36.266902Z",
     "start_time": "2023-05-19T15:57:35.554307Z"
    }
   },
   "outputs": [],
   "source": [
    "for mol in mols:\n",
    "    sm.create_jobs_for_molecule(mol, light_basis_set='6-31G**', solvent='DMSO')"
   ]
  },
  {
   "cell_type": "markdown",
   "metadata": {},
   "source": [
    "### submit jobs to cluster"
   ]
  },
  {
   "cell_type": "code",
   "execution_count": null,
   "metadata": {
    "ExecuteTime": {
     "end_time": "2023-05-19T15:57:43.690322Z",
     "start_time": "2023-05-19T15:57:41.498824Z"
    }
   },
   "outputs": [],
   "source": [
    "sm.submit_jobs()"
   ]
  },
  {
   "cell_type": "markdown",
   "metadata": {},
   "source": [
    "### check stat again, you can see all jobs submitted to cluster"
   ]
  },
  {
   "cell_type": "code",
   "execution_count": null,
   "metadata": {
    "ExecuteTime": {
     "end_time": "2023-05-19T16:09:05.346700Z",
     "start_time": "2023-05-19T16:09:04.690140Z"
    }
   },
   "outputs": [],
   "source": [
    "sm.qstat(summary=False)"
   ]
  },
  {
   "cell_type": "markdown",
   "metadata": {},
   "source": [
    "### retrieve done jobs"
   ]
  },
  {
   "cell_type": "code",
   "execution_count": null,
   "metadata": {
    "ExecuteTime": {
     "end_time": "2023-05-19T16:09:09.238863Z",
     "start_time": "2023-05-19T16:09:06.594596Z"
    }
   },
   "outputs": [],
   "source": [
    "sm.retrieve_jobs()"
   ]
  },
  {
   "cell_type": "markdown",
   "metadata": {},
   "source": [
    "### upload finished calculations"
   ]
  },
  {
   "cell_type": "code",
   "execution_count": null,
   "metadata": {
    "ExecuteTime": {
     "end_time": "2023-05-19T16:09:18.365042Z",
     "start_time": "2023-05-19T16:09:11.518360Z"
    }
   },
   "outputs": [],
   "source": [
    "sm.upload_done_molecules_to_db(tags=[\"test_WCG\"])"
   ]
  },
  {
   "cell_type": "code",
   "execution_count": null,
   "metadata": {},
   "outputs": [],
   "source": []
  }
 ],
 "metadata": {
  "kernelspec": {
   "display_name": "Python 3 (ipykernel)",
   "language": "python",
   "name": "python3"
  },
  "language_info": {
   "codemirror_mode": {
    "name": "ipython",
    "version": 3
   },
   "file_extension": ".py",
   "mimetype": "text/x-python",
   "name": "python",
   "nbconvert_exporter": "python",
   "pygments_lexer": "ipython3",
   "version": "3.8.16"
  },
  "vscode": {
   "interpreter": {
    "hash": "75934cf67ebde6f7dd5cca3b6d679ee9d52aabd0098557c6f9034056a96918b4"
   }
  }
 },
 "nbformat": 4,
 "nbformat_minor": 2
}
