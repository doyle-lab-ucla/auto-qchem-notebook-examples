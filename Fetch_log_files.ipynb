{
 "cells": [
  {
   "cell_type": "markdown",
   "metadata": {},
   "source": [
    "### Startup imports"
   ]
  },
  {
   "cell_type": "code",
   "execution_count": 3,
   "metadata": {},
   "outputs": [
    {
     "name": "stderr",
     "output_type": "stream",
     "text": [
      "RDKit WARNING: [11:26:39] Enabling RDKit 2019.09.3 jupyter extensions\n"
     ]
    }
   ],
   "source": [
    "import pandas as pd\n",
    "\n",
    "from autoqchem.molecule import molecule\n",
    "from autoqchem.db_functions import *\n",
    "from autoqchem.openbabel_functions import *\n",
    "\n",
    "import hashlib\n",
    "import logging\n",
    "logging.basicConfig(level=logging.INFO)"
   ]
  },
  {
   "cell_type": "code",
   "execution_count": 4,
   "metadata": {},
   "outputs": [],
   "source": [
    "tags_coll = db_connect(\"tags\")\n",
    "mols_coll = db_connect(\"molecules\")\n",
    "log_files_coll = db_connect(\"log_files\")"
   ]
  },
  {
   "cell_type": "code",
   "execution_count": 5,
   "metadata": {},
   "outputs": [],
   "source": [
    "# INPUT parameters\n",
    "tag = \"PARC\""
   ]
  },
  {
   "cell_type": "code",
   "execution_count": 6,
   "metadata": {},
   "outputs": [
    {
     "name": "stderr",
     "output_type": "stream",
     "text": [
      "C:/Users/AndrzejZuranski/Dropbox/DataX_PU/github/auto-qchem\\autoqchem\\db_functions.py:154: FutureWarning: Indexing with multiple keys (implicitly converted to a tuple of keys) will be deprecated, use a list instead.\n",
      "  df = pd.concat([grouped['metadata', 'molecule_id', 'name'].first(),\n"
     ]
    }
   ],
   "source": [
    "# fetch molecules with that tag\n",
    "mol_df = db_select_molecules(tags=[tag])"
   ]
  },
  {
   "cell_type": "code",
   "execution_count": 49,
   "metadata": {},
   "outputs": [],
   "source": [
    "# helper function to create file names the same way ACQ does\n",
    "def mol_fs_name(can):\n",
    "    mol = input_to_OBMol(can, \"string\", \"smi\")\n",
    "    return f\"{mol.GetFormula()}_{hashlib.md5(can.encode()).hexdigest()[:4]}\""
   ]
  },
  {
   "cell_type": "code",
   "execution_count": 50,
   "metadata": {},
   "outputs": [],
   "source": [
    "# add fs_name to the table\n",
    "mol_df['file_base_name'] = mol_df['can'].map(mol_fs_name)"
   ]
  },
  {
   "cell_type": "code",
   "execution_count": 51,
   "metadata": {},
   "outputs": [],
   "source": [
    "# get a cursor that iterates over the log files\n",
    "cursor = log_files_coll.find({'molecule_id' :{\"$in\": mol_df.molecule_id.tolist()}}, {'log':1, 'can':1})"
   ]
  },
  {
   "cell_type": "code",
   "execution_count": 52,
   "metadata": {
    "scrolled": true
   },
   "outputs": [
    {
     "name": "stdout",
     "output_type": "stream",
     "text": [
      "C1CCC(CC1)/N=C/C=N/N1CCCCC1 0\n",
      "C1CCC(CC1)/N=C/C=N/N1CCCCC1 1\n",
      "C1CCC(CC1)/N=C/C=N/N1CCCCC1 2\n",
      "C1CN=C(O1)C1=NCCO1 0\n",
      "C1CN=C(O1)C1=NCCO1 1\n",
      "C1CN=C(O1)c1ccc2c(n1)cccc2 0\n",
      "C1CN=C(O1)c1cccc(n1)C1=NCCO1 0\n",
      "C1CN=C(O1)c1cccc(n1)C1=NCCO1 1\n",
      "CC(c1cc(nc(c1)c1nccc(c1)C(C)(C)C)c1nccc(c1)C(C)(C)C)(C)C 0\n",
      "CC(c1cc(nc(c1)c1nccc(c1)C(C)(C)C)c1nccc(c1)C(C)(C)C)(C)C 1\n",
      "CC(c1cc(nc(c1)c1nccc(c1)C(C)(C)C)c1nccc(c1)C(C)(C)C)(C)C 2\n",
      "CC(c1ccnc(c1)c1nccc(c1)C(C)(C)C)(C)C 0\n",
      "CC(c1ccnc(c1)c1nccc(c1)C(C)(C)C)(C)C 1\n",
      "CC(c1ccnc(c1)c1nccc(c1)C(C)(C)C)(C)C 2\n",
      "CN(CCN(C)C)C 0\n",
      "CN(CCN(C)C)C 1\n",
      "CN(CCN(C)C)C 2\n",
      "CN(c1cccc2c1c(ccc2)N(C)C)C 0\n",
      "CNC(=N)c1ccccn1 0\n",
      "CNC(=N)c1ccccn1 1\n",
      "COc1ccc(nc1)C(=N)N 0\n",
      "COc1ccc(nc1)C(=N)N 1\n",
      "COc1ccc(nc1)C(=N)N 2\n",
      "COc1ccnc(c1)C(=N)N 0\n",
      "COc1ccnc(c1)C(=N)N 1\n",
      "COc1ccnc(c1)C(=N)N 2\n",
      "COc1ccnc(c1)c1nccc(c1)OC 0\n",
      "COc1ccnc(c1)c1nccc(c1)OC 1\n",
      "COc1ccnc(c1)c1nccc(c1)OC 2\n",
      "Cc1ccc(cc1)S(=O)(=O)N[C@H]1CCCC[C@@H]1NS(=O)(=O)c1ccc(cc1)C 0\n",
      "Cc1ccc(cc1)S(=O)(=O)N[C@H]1CCCC[C@@H]1NS(=O)(=O)c1ccc(cc1)C 1\n",
      "Cc1ccc(cc1)S(=O)(=O)N[C@H]1CCCC[C@@H]1NS(=O)(=O)c1ccc(cc1)C 2\n",
      "Cc1ccc2c(n1)c1nc(C)ccc1cc2 0\n",
      "Cc1cccc(n1)c1cccc(n1)C 0\n",
      "Clc1cc2cccnc2c2c1cccn2 0\n",
      "FC(c1ccc(cc1)c1ccnc(c1)c1nccc(c1)c1ccc(cc1)C(F)(F)F)(F)F 0\n",
      "FC(c1ccc(cc1)c1ccnc(c1)c1nccc(c1)c1ccc(cc1)C(F)(F)F)(F)F 1\n",
      "FC(c1ccc(cc1)c1ccnc(c1)c1nccc(c1)c1ccc(cc1)C(F)(F)F)(F)F 2\n",
      "N#C/N=C(/c1ccccn1)\\N 0\n",
      "N#C/N=C(/c1ccccn1)\\N 1\n",
      "N=C(c1ccccn1)N1CCCCC1 0\n",
      "N=C(c1ccccn1)N1CCCCC1 1\n",
      "N=C(c1ccccn1)N1CCCCC1 2\n",
      "N=C(c1ccccn1)Nc1ccccc1 0\n",
      "N=C(c1ccccn1)Nc1ccccc1 1\n",
      "N=C(c1ccccn1)Nc1ccccc1 2\n",
      "NC(=N)c1ccc(cn1)C(F)(F)F 0\n",
      "NC(=N)c1ccc(cn1)C(F)(F)F 1\n",
      "NC(=N)c1ccc(cn1)C(F)(F)F 2\n",
      "NC(=N)c1ccccn1 0\n",
      "NC(=N)c1ccccn1 1\n",
      "NC(=N)c1ccccn1 2\n",
      "NC(=N)c1nc(C)c(c(c1C)C)C 0\n",
      "NC(=N)c1nc(C)c(c(c1C)C)C 1\n",
      "NC(=N)c1nccc(c1)C(F)(F)F 0\n",
      "NC(=N)c1nccc(c1)C(F)(F)F 1\n",
      "NC(=N)c1nccc(c1)c1ccccc1 0\n",
      "NC(=N)c1nccc(c1)c1ccccc1 1\n",
      "NC(=N)c1nccc(c1)c1ccccc1 2\n",
      "NC(=N)c1ncccn1 0\n",
      "NC(=O)c1ccccn1 0\n",
      "NC(=O)c1ccccn1 1\n",
      "NC(=S)c1ccccn1 0\n",
      "NC(=S)c1ccccn1 1\n",
      "O=C1C(=O)c2cccnc2c2c1cccn2 0\n",
      "O=C1c2cccnc2c2c1cccn2 0\n",
      "[O-][N+](=O)c1cc2cccnc2c2c1cccn2 0\n",
      "[O-][N+](=O)c1cc2cccnc2c2c1cccn2 1\n",
      "c1cc(nc(c1)n1cccn1)n1cccn1 0\n",
      "c1cc(nc(c1)n1cccn1)n1cccn1 1\n",
      "c1ccc(cc1)c1ccnc(c1)c1nccc(c1)c1ccccc1 0\n",
      "c1ccc(cc1)c1ccnc(c1)c1nccc(c1)c1ccccc1 1\n",
      "c1ccc(cc1)c1ccnc(c1)c1nccc(c1)c1ccccc1 2\n",
      "c1ccc(cc1)c1ccnc2c1ccc1c2nccc1c1ccccc1 0\n",
      "c1ccc(cc1)c1ccnc2c1ccc1c2nccc1c1ccccc1 1\n",
      "c1ccc(nc1)c1ccccn1 0\n",
      "c1ccc(nc1)c1ccccn1 1\n",
      "c1ccc(nc1)c1ccccn1 2\n",
      "c1ccc(nc1)n1cccn1 0\n",
      "c1ccc(nc1)n1cccn1 1\n",
      "c1ccc(nc1)n1cccn1 2\n",
      "c1ccc2c(n1)c1ncccc1C1C2O1 0\n",
      "c1ccc2c(n1)c1ncccc1cc2 0\n",
      "c1cnc2c(c1)c1nccnc1c1c2nccc1 0\n",
      "C1CCN(CC1)/N=C/C=N/N1CCCCC1 0\n",
      "C1CCN(CC1)/N=C/C=N/N1CCCCC1 1\n",
      "COc1cc(nc(c1)C(=N)N)C(=N)N 0\n",
      "COc1cc(nc(c1)C(=N)N)C(=N)N 1\n",
      "COc1cc(nc(c1)C(=N)N)C(=N)N 2\n"
     ]
    }
   ],
   "source": [
    "# path for file storage\n",
    "path = 'C:/Users/AndrzejZuranski/Downloads/for_Lucy'\n",
    "\n",
    "\n",
    "# dictionary to keep trach of conformer numbers\n",
    "m_dict = {m:0 for m in mol_df.can.tolist()}\n",
    "\n",
    "for l in cursor:\n",
    "    can, log = l['can'], l['log']\n",
    "    fs_name = mol_fs_name(can)\n",
    "    \n",
    "    print (can, m_dict[can])\n",
    "    \n",
    "    with open(f\"{path}/{fs_name}_{m_dict[can]}.log\", \"w\") as f:\n",
    "        f.write(log)\n",
    "    \n",
    "    m_dict[can] +=1 "
   ]
  },
  {
   "cell_type": "code",
   "execution_count": 53,
   "metadata": {},
   "outputs": [],
   "source": [
    "mol_df.drop(['molecule_id', '_ids'], axis=1).to_csv(f\"{path}/legend.csv\")"
   ]
  },
  {
   "cell_type": "code",
   "execution_count": null,
   "metadata": {},
   "outputs": [],
   "source": []
  }
 ],
 "metadata": {
  "kernelspec": {
   "display_name": "Python 3",
   "language": "python",
   "name": "python3"
  },
  "language_info": {
   "codemirror_mode": {
    "name": "ipython",
    "version": 3
   },
   "file_extension": ".py",
   "mimetype": "text/x-python",
   "name": "python",
   "nbconvert_exporter": "python",
   "pygments_lexer": "ipython3",
   "version": "3.7.6"
  }
 },
 "nbformat": 4,
 "nbformat_minor": 4
}
