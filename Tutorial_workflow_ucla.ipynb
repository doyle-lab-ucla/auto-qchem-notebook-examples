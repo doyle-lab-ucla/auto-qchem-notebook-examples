{
 "cells": [
  {
   "cell_type": "markdown",
   "metadata": {},
   "source": [
    "# Tutorial for Creating Descriptor Sets with Auto-QChem at UCLA"
   ]
  },
  {
   "cell_type": "markdown",
   "metadata": {},
   "source": [
    "This tutorial will walk you through how to use Auto-QChem at UCLA. Before you begin, you will need a [user account on Hoffman2](https://www.hoffman2.idre.ucla.edu/Accounts/Requesting-an-account.html) (UCLA's computing cluster) with [access to Gaussian 16](https://www.hoffman2.idre.ucla.edu/Accounts/Users-managing-your-account.html). You will also need to [install Auto-QChem](https://github.com/doyle-lab-ucla/auto-qchem/blob/master/INSTALL.md) on your local computer with the required python packages. \n",
    "\n",
    "Given a string representation of a molecule, Auto-QChem generates 3D conformers and performs DFT calculations for them on a remote computing cluster. After monitoring that the calculations have finished, Auto-QChem collects the DFT features and stores them in a database accessible by a web interface. "
   ]
  },
  {
   "cell_type": "markdown",
   "metadata": {},
   "source": [
    "***\n"
   ]
  },
  {
   "cell_type": "markdown",
   "metadata": {},
   "source": [
    "## Standard Workflow\n",
    "\n",
    "Ensure that the python environment `autoqchem` is designated as the kernel for this notebook. \n",
    "\n",
    "*If not, select \"Kernel > Change kernel > autoqchem\". Once the kernel loads, you can run a cell of code by clicking on it and then \"Shift + Enter\".*"
   ]
  },
  {
   "cell_type": "markdown",
   "metadata": {},
   "source": [
    "### Import classes from autoqchem\n",
    "\n",
    "Here we reference components of Auto-QChem so they're available for us to use later:"
   ]
  },
  {
   "cell_type": "code",
   "execution_count": 2,
   "metadata": {
    "ExecuteTime": {
     "end_time": "2023-05-19T15:48:18.213268Z",
     "start_time": "2023-05-19T15:48:18.206862Z"
    }
   },
   "outputs": [],
   "source": [
    "from autoqchem.molecule import molecule\n",
    "from autoqchem.sge_manager import sge_manager\n",
    "from autoqchem.draw_utils import draw"
   ]
  },
  {
   "cell_type": "markdown",
   "metadata": {},
   "source": [
    "<div class=\"alert alert-block alert-info\">\n",
    "<b>Tip:</b> To check auto-qchem version number, run the following:\n",
    "</div>"
   ]
  },
  {
   "cell_type": "code",
   "execution_count": null,
   "metadata": {},
   "outputs": [],
   "source": [
    "! conda list auto-qchem"
   ]
  },
  {
   "cell_type": "markdown",
   "metadata": {},
   "source": [
    "### Set level of logging\n",
    "Auto-QChem prints out messages with helpful information. You can set the verbosity level of the messages: \n",
    "- \"INFO\" is a good setting for first time users. \n",
    "- \"WARNING\" or \"ERROR\" are appropriate once you become more comfortable."
   ]
  },
  {
   "cell_type": "code",
   "execution_count": 3,
   "metadata": {
    "ExecuteTime": {
     "end_time": "2023-05-19T15:48:19.940579Z",
     "start_time": "2023-05-19T15:48:19.936532Z"
    }
   },
   "outputs": [],
   "source": [
    "import logging\n",
    "logging.basicConfig(level=logging.INFO)"
   ]
  },
  {
   "cell_type": "markdown",
   "metadata": {},
   "source": [
    "### Provide SMILES string(s)\n",
    "\n",
    "You can choose any molecule well-represented by a SMILES string. This representation is easily obtained from ChemDraw by selecting a drawn molecule, then \"Edit > Copy As > SMILES\". \n",
    "\n",
    "*List your SMILES string(s) below within single quotes, separated by commas if multiple molecules.*"
   ]
  },
  {
   "cell_type": "code",
   "execution_count": 4,
   "metadata": {
    "ExecuteTime": {
     "end_time": "2023-05-19T15:56:36.922344Z",
     "start_time": "2023-05-19T15:56:36.914799Z"
    }
   },
   "outputs": [],
   "source": [
    "smiles_str_list = ['CC', 'CCC']"
   ]
  },
  {
   "cell_type": "markdown",
   "metadata": {},
   "source": [
    "### Make molecule(s) from SMILES string(s)\n",
    "\n",
    "The following command turns each SMILES string into conformations with 3D coordinates."
   ]
  },
  {
   "cell_type": "code",
   "execution_count": 5,
   "metadata": {
    "ExecuteTime": {
     "end_time": "2023-05-19T15:56:38.304285Z",
     "start_time": "2023-05-19T15:56:38.292790Z"
    }
   },
   "outputs": [],
   "source": [
    "mols = [molecule(s, num_conf=5) for s in smiles_str_list]"
   ]
  },
  {
   "cell_type": "markdown",
   "metadata": {},
   "source": [
    "### Visualize molecule(s)\n",
    "\n",
    "The molecule(s) should look reasonable.  If the structure seems off, there may be issues with the installation of OpenBabel (which performs MMFF94 optimization with conformer search)."
   ]
  },
  {
   "cell_type": "code",
   "execution_count": 9,
   "metadata": {
    "ExecuteTime": {
     "end_time": "2023-05-19T15:56:41.025105Z",
     "start_time": "2023-05-19T15:56:40.990012Z"
    }
   },
   "outputs": [
    {
     "data": {
      "application/vnd.jupyter.widget-view+json": {
       "model_id": "019501c460874654b13b1c77341cd626",
       "version_major": 2,
       "version_minor": 0
      },
      "text/plain": [
       "interactive(children=(Dropdown(description='confId', options=(0,), value=0), Output()), _dom_classes=('widget-…"
      ]
     },
     "metadata": {},
     "output_type": "display_data"
    },
    {
     "data": {
      "application/vnd.jupyter.widget-view+json": {
       "model_id": "8c73f5753b5c4d21b1ade8fb2f56fa7a",
       "version_major": 2,
       "version_minor": 0
      },
      "text/plain": [
       "interactive(children=(Dropdown(description='confId', options=(0,), value=0), Output()), _dom_classes=('widget-…"
      ]
     },
     "metadata": {},
     "output_type": "display_data"
    }
   ],
   "source": [
    "for m in mols:\n",
    "    draw(m.mol) "
   ]
  },
  {
   "cell_type": "markdown",
   "metadata": {},
   "source": [
    "<div class=\"alert alert-block alert-info\">\n",
    "<b>Tip:</b> sometimes rdkit cannot handle the conformer generation of large molecules, especially if they have long alkyl chains:\n",
    "</div>"
   ]
  },
  {
   "cell_type": "code",
   "execution_count": 7,
   "metadata": {},
   "outputs": [
    {
     "ename": "ValueError",
     "evalue": "Bad Conformer Id",
     "output_type": "error",
     "traceback": [
      "\u001b[0;31m---------------------------------------------------------------------------\u001b[0m",
      "\u001b[0;31mValueError\u001b[0m                                Traceback (most recent call last)",
      "Cell \u001b[0;32mIn[7], line 2\u001b[0m\n\u001b[1;32m      1\u001b[0m big_s \u001b[38;5;241m=\u001b[39m \u001b[38;5;124m'\u001b[39m\u001b[38;5;124mCCCCCCCCC1=CC2=CC(C3=CN(C45CC6CC(C5)CC(C4)C6)N=N3)=C7OP(O)(OC8=C(C7=C2C=C1)C9=CC=C(C=C9C=C8C\u001b[39m\u001b[38;5;124m%\u001b[39m\u001b[38;5;124m10=CN(C\u001b[39m\u001b[38;5;132;01m%11%\u001b[39;00m\u001b[38;5;124m12CC\u001b[39m\u001b[38;5;124m%\u001b[39m\u001b[38;5;124m13CC(C\u001b[39m\u001b[38;5;124m%\u001b[39m\u001b[38;5;124m12)CC(C\u001b[39m\u001b[38;5;124m%\u001b[39m\u001b[38;5;124m11)C\u001b[39m\u001b[38;5;124m%\u001b[39m\u001b[38;5;124m13)N=N\u001b[39m\u001b[38;5;124m%\u001b[39m\u001b[38;5;124m10)CCCCCCCC)=O\u001b[39m\u001b[38;5;124m'\u001b[39m\n\u001b[0;32m----> 2\u001b[0m big_mol \u001b[38;5;241m=\u001b[39m \u001b[43mmolecule\u001b[49m\u001b[43m(\u001b[49m\u001b[43mbig_s\u001b[49m\u001b[43m)\u001b[49m\n",
      "File \u001b[0;32m~/Desktop/general-code/doyle-lab-ucla/auto-qchem/autoqchem/molecule.py:48\u001b[0m, in \u001b[0;36mmolecule.__init__\u001b[0;34m(self, smiles, num_conf, engine, rdkit_ff, ob_gen3D_option, large_mol)\u001b[0m\n\u001b[1;32m     43\u001b[0m \u001b[38;5;66;03m# run conformer generation\u001b[39;00m\n\u001b[1;32m     44\u001b[0m \u001b[38;5;28;01mif\u001b[39;00m engine \u001b[38;5;241m==\u001b[39m \u001b[38;5;124m'\u001b[39m\u001b[38;5;124mrdkit\u001b[39m\u001b[38;5;124m'\u001b[39m:\n\u001b[1;32m     45\u001b[0m     \u001b[38;5;28mself\u001b[39m\u001b[38;5;241m.\u001b[39melements, \\\n\u001b[1;32m     46\u001b[0m     \u001b[38;5;28mself\u001b[39m\u001b[38;5;241m.\u001b[39mconformer_coordinates, \\\n\u001b[1;32m     47\u001b[0m     \u001b[38;5;28mself\u001b[39m\u001b[38;5;241m.\u001b[39mconnectivity_matrix, \\\n\u001b[0;32m---> 48\u001b[0m     \u001b[38;5;28mself\u001b[39m\u001b[38;5;241m.\u001b[39mcharges \u001b[38;5;241m=\u001b[39m \u001b[43mgenerate_conformations_from_rdkit\u001b[49m\u001b[43m(\u001b[49m\u001b[43msmiles\u001b[49m\u001b[38;5;241;43m=\u001b[39;49m\u001b[43msmiles\u001b[49m\u001b[43m,\u001b[49m\u001b[43m \u001b[49m\u001b[43mnum_conf\u001b[49m\u001b[38;5;241;43m=\u001b[39;49m\u001b[43mnum_conf\u001b[49m\u001b[43m,\u001b[49m\u001b[43m \u001b[49m\u001b[43mrdkit_ff\u001b[49m\u001b[38;5;241;43m=\u001b[39;49m\u001b[43mrdkit_ff\u001b[49m\u001b[43m,\u001b[49m\u001b[43m \u001b[49m\u001b[43mlarge_mol\u001b[49m\u001b[38;5;241;43m=\u001b[39;49m\u001b[43mlarge_mol\u001b[49m\u001b[43m)\u001b[49m\n\u001b[1;32m     50\u001b[0m \u001b[38;5;28;01melif\u001b[39;00m engine \u001b[38;5;241m==\u001b[39m \u001b[38;5;124m'\u001b[39m\u001b[38;5;124mopenbabel\u001b[39m\u001b[38;5;124m'\u001b[39m:\n\u001b[1;32m     51\u001b[0m     \u001b[38;5;28mself\u001b[39m\u001b[38;5;241m.\u001b[39melements, \\\n\u001b[1;32m     52\u001b[0m     \u001b[38;5;28mself\u001b[39m\u001b[38;5;241m.\u001b[39mconformer_coordinates, \\\n\u001b[1;32m     53\u001b[0m     \u001b[38;5;28mself\u001b[39m\u001b[38;5;241m.\u001b[39mconnectivity_matrix, \\\n\u001b[1;32m     54\u001b[0m     \u001b[38;5;28mself\u001b[39m\u001b[38;5;241m.\u001b[39mcharges \u001b[38;5;241m=\u001b[39m generate_conformations_from_openbabel(smiles\u001b[38;5;241m=\u001b[39msmiles, num_conf\u001b[38;5;241m=\u001b[39mnum_conf,\n\u001b[1;32m     55\u001b[0m                                                          ob_gen3D_option\u001b[38;5;241m=\u001b[39mob_gen3D_option)\n",
      "File \u001b[0;32m~/Desktop/general-code/doyle-lab-ucla/auto-qchem/autoqchem/rdkit_utils.py:142\u001b[0m, in \u001b[0;36mgenerate_conformations_from_rdkit\u001b[0;34m(smiles, num_conf, rdkit_ff, large_mol)\u001b[0m\n\u001b[1;32m    140\u001b[0m AllChem\u001b[38;5;241m.\u001b[39mEmbedMultipleConfs(rdmol, num_conf, params)\n\u001b[1;32m    141\u001b[0m \u001b[38;5;28;01mif\u001b[39;00m rdkit_ff \u001b[38;5;241m==\u001b[39m \u001b[38;5;124m\"\u001b[39m\u001b[38;5;124mMMFF94\u001b[39m\u001b[38;5;124m\"\u001b[39m:\n\u001b[0;32m--> 142\u001b[0m     \u001b[43mAllChem\u001b[49m\u001b[38;5;241;43m.\u001b[39;49m\u001b[43mMMFFOptimizeMoleculeConfs\u001b[49m\u001b[43m(\u001b[49m\u001b[43mrdmol\u001b[49m\u001b[43m,\u001b[49m\u001b[43m \u001b[49m\u001b[43mmmffVariant\u001b[49m\u001b[38;5;241;43m=\u001b[39;49m\u001b[38;5;124;43m\"\u001b[39;49m\u001b[38;5;124;43mMMFF94\u001b[39;49m\u001b[38;5;124;43m\"\u001b[39;49m\u001b[43m,\u001b[49m\u001b[43m \u001b[49m\u001b[43mnumThreads\u001b[49m\u001b[38;5;241;43m=\u001b[39;49m\u001b[43mn_threads\u001b[49m\u001b[43m)\u001b[49m\n\u001b[1;32m    143\u001b[0m \u001b[38;5;28;01melif\u001b[39;00m rdkit_ff \u001b[38;5;241m==\u001b[39m \u001b[38;5;124m\"\u001b[39m\u001b[38;5;124mMMFF94s\u001b[39m\u001b[38;5;124m\"\u001b[39m:\n\u001b[1;32m    144\u001b[0m     AllChem\u001b[38;5;241m.\u001b[39mMMFFOptimizeMoleculeConfs(rdmol, mmffVariant\u001b[38;5;241m=\u001b[39m\u001b[38;5;124m\"\u001b[39m\u001b[38;5;124mMMFF94s\u001b[39m\u001b[38;5;124m\"\u001b[39m, numThreads\u001b[38;5;241m=\u001b[39mn_threads)\n",
      "\u001b[0;31mValueError\u001b[0m: Bad Conformer Id"
     ]
    }
   ],
   "source": [
    "big_s = 'CCCCCCCCC1=CC2=CC(C3=CN(C45CC6CC(C5)CC(C4)C6)N=N3)=C7OP(O)(OC8=C(C7=C2C=C1)C9=CC=C(C=C9C=C8C%10=CN(C%11%12CC%13CC(C%12)CC(C%11)C%13)N=N%10)CCCCCCCC)=O'\n",
    "big_mol = molecule(big_s) # bad conformer id means that 0 conformers were generated by rdkit"
   ]
  },
  {
   "cell_type": "markdown",
   "metadata": {},
   "source": [
    "If you see errors like this, specify `large_mol=True` when you build molecule. Autoqchem will try something else. "
   ]
  },
  {
   "cell_type": "code",
   "execution_count": 8,
   "metadata": {},
   "outputs": [
    {
     "data": {
      "application/vnd.jupyter.widget-view+json": {
       "model_id": "303630aac8bc485d9c51a62073d6aa75",
       "version_major": 2,
       "version_minor": 0
      },
      "text/plain": [
       "interactive(children=(Dropdown(description='confId', options=(0, 1, 2, 3, 4), value=0), Output()), _dom_classe…"
      ]
     },
     "metadata": {},
     "output_type": "display_data"
    },
    {
     "data": {
      "text/plain": [
       "<function autoqchem.draw_utils._graph_conf(m, confId=0, energies=[])>"
      ]
     },
     "execution_count": 8,
     "metadata": {},
     "output_type": "execute_result"
    }
   ],
   "source": [
    "big_mol = molecule(big_s, large_mol=True)  # no more errors\n",
    "draw(big_mol.mol)"
   ]
  },
  {
   "cell_type": "markdown",
   "metadata": {},
   "source": [
    "### Initialize job manager\n",
    "\n",
    "The job manager will manage the jobs that you currently have running or waiting to run on Hoffman2. It remembers what stage your jobs are at in a cache, so you can close the notebook, turn off your computer, or go on vacation, and later pick up right where you left off. \n",
    "\n",
    "Here the job manager that we initialize is `sge_manager` as the Hoffman2 cluster utilizes a SGE/UGE scheduler.\n",
    "\n",
    "*Replace `userID` with your Hoffman2 username.* We also specify the Hoffman2 cluster as the remote host with ```hoffman2.idre.ucla.edu```."
   ]
  },
  {
   "cell_type": "code",
   "execution_count": 33,
   "metadata": {
    "ExecuteTime": {
     "end_time": "2023-05-19T15:56:48.389604Z",
     "start_time": "2023-05-19T15:56:48.378746Z"
    }
   },
   "outputs": [],
   "source": [
    "sm = sge_manager(user='userID', host='hoffman2.idre.ucla.edu')"
   ]
  },
  {
   "cell_type": "markdown",
   "metadata": {},
   "source": [
    "### Connect to Hoffman2\n",
    "\n",
    "We now create a connection to the Hoffman2 cluster. This ssh tunnel into the remote cluster will be used to manage jobs from within this notebook.\n",
    "\n",
    "*Provide your password when prompted.*"
   ]
  },
  {
   "cell_type": "code",
   "execution_count": 35,
   "metadata": {
    "ExecuteTime": {
     "end_time": "2023-05-19T15:57:02.982253Z",
     "start_time": "2023-05-19T15:56:54.827718Z"
    }
   },
   "outputs": [
    {
     "name": "stderr",
     "output_type": "stream",
     "text": [
      "INFO:autoqchem.sge_manager:Creating connection to hoffman2.idre.ucla.edu as wang10\n",
      "INFO:paramiko.transport:Connected (version 2.0, client OpenSSH_7.4)\n",
      "INFO:paramiko.transport:Authentication (password) successful!\n",
      "INFO:autoqchem.sge_manager:Connected to hoffman2.idre.ucla.edu as wang10.\n"
     ]
    }
   ],
   "source": [
    "sm.connect()"
   ]
  },
  {
   "cell_type": "markdown",
   "metadata": {},
   "source": [
    "### Create Gaussian job files\n",
    "\n",
    "Gaussian job files for every conformation will be created locally based on provided specifications.\n",
    "\n",
    "*Specify your desired level of theory for the DFT calculations, including the functional, basis sets, solvent, etc.*"
   ]
  },
  {
   "cell_type": "code",
   "execution_count": 43,
   "metadata": {
    "ExecuteTime": {
     "end_time": "2023-05-19T15:57:36.266902Z",
     "start_time": "2023-05-19T15:57:35.554307Z"
    }
   },
   "outputs": [
    {
     "name": "stderr",
     "output_type": "stream",
     "text": [
      "INFO:autoqchem.gaussian_input_generator:Generating Gaussian input files for 1 conformations.\n"
     ]
    }
   ],
   "source": [
    "for mol in mols:\n",
    "    sm.create_jobs_for_molecule(mol, theory=\"B3LYP\", light_basis_set='6-31G**', solvent='methanol')"
   ]
  },
  {
   "cell_type": "markdown",
   "metadata": {},
   "source": [
    "### View workflow statistics\n",
    "\n",
    "You can view the stage your jobs are at in the automated workflow. The count of jobs classified as created, submitted, done, uploaded, etc. is tabulated by canonical SMILES string. "
   ]
  },
  {
   "cell_type": "code",
   "execution_count": null,
   "metadata": {
    "ExecuteTime": {
     "end_time": "2023-05-19T15:57:05.300941Z",
     "start_time": "2023-05-19T15:57:04.722566Z"
    }
   },
   "outputs": [
    {
     "data": {
      "text/plain": [
       "'No jobs in queue'"
      ]
     },
     "metadata": {},
     "output_type": "display_data"
    }
   ],
   "source": [
    "sm.get_job_stats(split_by_can=True)"
   ]
  },
  {
   "cell_type": "markdown",
   "metadata": {},
   "source": [
    "### Submit jobs\n",
    "\n",
    "The following command will transfer the Gaussian input files to the Hoffman2 cluster and submit to them to the queue."
   ]
  },
  {
   "cell_type": "code",
   "execution_count": 44,
   "metadata": {
    "ExecuteTime": {
     "end_time": "2023-05-19T15:57:43.690322Z",
     "start_time": "2023-05-19T15:57:41.498824Z"
    }
   },
   "outputs": [
    {
     "name": "stderr",
     "output_type": "stream",
     "text": [
      "INFO:autoqchem.sge_manager:Submitting 1 jobs.\n",
      "INFO:autoqchem.sge_manager:Submitted job e7e716719dcaf24de944ee06f7c5a24c, job_id: 7360980.\n"
     ]
    }
   ],
   "source": [
    "sm.submit_jobs()"
   ]
  },
  {
   "cell_type": "markdown",
   "metadata": {},
   "source": [
    "### View queue status\n",
    "\n",
    "You can view if you have any jobs running on the cluster. The `qstat` ('**q**ueue **stat**us') command  will display a table of currently running jobs or notify you that no jobs are queued. "
   ]
  },
  {
   "cell_type": "code",
   "execution_count": 51,
   "metadata": {
    "ExecuteTime": {
     "end_time": "2023-05-19T16:09:05.346700Z",
     "start_time": "2023-05-19T16:09:04.690140Z"
    }
   },
   "outputs": [
    {
     "data": {
      "text/plain": [
       "'No jobs in queue'"
      ]
     },
     "execution_count": 51,
     "metadata": {},
     "output_type": "execute_result"
    }
   ],
   "source": [
    "sm.qstat(summary=True)"
   ]
  },
  {
   "cell_type": "markdown",
   "metadata": {},
   "source": [
    "You can continue to monitor your running jobs with ```qstat()``` or check the workflow statistics with ```get_job_stats()``` at any time."
   ]
  },
  {
   "cell_type": "markdown",
   "metadata": {},
   "source": [
    "### Retrieve finished jobs\n",
    "\n",
    "After jobs finish running, you can retrieve completed jobs from the remote cluster with the following command."
   ]
  },
  {
   "cell_type": "code",
   "execution_count": 52,
   "metadata": {
    "ExecuteTime": {
     "end_time": "2023-05-19T16:09:09.238863Z",
     "start_time": "2023-05-19T16:09:06.594596Z"
    }
   },
   "outputs": [
    {
     "name": "stderr",
     "output_type": "stream",
     "text": [
      "INFO:autoqchem.sge_manager:There are 0 running/pending jobs, 1 finished jobs.\n",
      "INFO:autoqchem.sge_manager:Retrieving log files of finished jobs.\n",
      "INFO:autoqchem.sge_manager:1 jobs finished successfully (all Gaussian steps finished normally). 0 jobs failed.\n"
     ]
    }
   ],
   "source": [
    "sm.retrieve_jobs()"
   ]
  },
  {
   "cell_type": "markdown",
   "metadata": {},
   "source": [
    "### Upload completed calculations to database\n",
    "\n",
    "Once all conformers for a molecule are done, you can upload the finished molecule to the web database.\n",
    "\n",
    "*Label your collection of molecules with a dataset tag by replacing ```tutorial_INITIALS``` with a brief description and/or your initials.*"
   ]
  },
  {
   "cell_type": "code",
   "execution_count": 53,
   "metadata": {
    "ExecuteTime": {
     "end_time": "2023-05-19T16:09:18.365042Z",
     "start_time": "2023-05-19T16:09:11.518360Z"
    }
   },
   "outputs": [
    {
     "name": "stderr",
     "output_type": "stream",
     "text": [
      "INFO:autoqchem.sge_manager:There are 1 finished molecules ['CC'].\n",
      "INFO:autoqchem.sge_manager:Molecule CC has 0 / 1 duplicate conformers.\n",
      "INFO:autoqchem.sge_manager:Removing 0 / 1 jobs and log files that contain duplicate conformers.\n",
      "INFO:autoqchem.sge_manager:Uploaded descriptors to DB for smiles: CC, number of conformers: 1, DB molecule id 646801973834ff8df6a882de.\n"
     ]
    }
   ],
   "source": [
    "sm.upload_done_molecules_to_db(tags=[\"tutorial_INITIALS\"])"
   ]
  },
  {
   "cell_type": "markdown",
   "metadata": {},
   "source": [
    "### All done!\n",
    "\n",
    "You can now find the computed descriptors for your molecules at [https://autoqchem.org](https://autoqchem.org)"
   ]
  },
  {
   "cell_type": "markdown",
   "metadata": {},
   "source": [
    "***\n"
   ]
  },
  {
   "cell_type": "markdown",
   "metadata": {},
   "source": [
    "## Additional commands\n",
    "\n",
    "Here are some additional commands for the job manager that you may find helpful if you run into any trouble."
   ]
  },
  {
   "cell_type": "markdown",
   "metadata": {},
   "source": [
    "### Resubmit incomplete jobs\n",
    "\n",
    "If any jobs are classified as incomplete, you can resubmit them with the following command. \n",
    "\n",
    "If the job has failed because the optimization has not completed and a log file has been retrieved, then the last geometry will be used for the next submission. For failed jobs, the job input files will need to be fixed manually and submitted using the function `sge_manager.submit_jobs_from_jobs_dict`. The maximum number of allowed submission of the same job is 3.\n",
    "\n",
    "You may specify a wall time of the job in HH:MM:SS format (default: `wall_time=\"23:59:00\"`)."
   ]
  },
  {
   "cell_type": "code",
   "execution_count": null,
   "metadata": {},
   "outputs": [],
   "source": [
    "sm.resubmit_incomplete_jobs()"
   ]
  },
  {
   "cell_type": "markdown",
   "metadata": {},
   "source": [
    "### Remove molecule(s) from job manager\n",
    "\n",
    "You can remove molecules from the workflow with the following command. \n",
    "\n",
    "It's particularly useful if you need to redo a molecule with the same Gaussian configuration before it's uploaded to the database (since the submission of duplicates isn't permitted). You can also remove done molecules from the job manager once they've been uploaded to the database.\n",
    "\n",
    "*Specify which jobs to remove from management with either a canonical SMILES string (or list of strings) or job status classification.*"
   ]
  },
  {
   "cell_type": "code",
   "execution_count": null,
   "metadata": {},
   "outputs": [],
   "source": [
    "sm.remove_jobs(sm.get_jobs(can=\"CCC\"))\n",
    "# sm.remove_jobs(sm.get_jobs(status=\"done\"))"
   ]
  },
  {
   "cell_type": "markdown",
   "metadata": {},
   "source": [
    "### Cancel all running/queued jobs\n",
    "\n",
    "The `_qdel` ('**q**ueue **del**ete') command removes any queued or runing jobs. \n",
    "\n",
    "Beware that all of a user's jobs will be canceled (including jobs submitted independently of Auto-QChem)."
   ]
  },
  {
   "cell_type": "code",
   "execution_count": null,
   "metadata": {},
   "outputs": [],
   "source": [
    "sm._qdel()     "
   ]
  },
  {
   "cell_type": "markdown",
   "metadata": {},
   "source": [
    "***\n"
   ]
  },
  {
   "cell_type": "markdown",
   "metadata": {},
   "source": [
    "## Tips for larger batches"
   ]
  },
  {
   "cell_type": "markdown",
   "metadata": {},
   "source": [
    "This workflow can readily scale up to dozens or hundreds of molecules. You will find the following tips helpful for working with larger batches of molecules."
   ]
  },
  {
   "cell_type": "markdown",
   "metadata": {},
   "source": [
    "### Importing SMILES strings in batch\n",
    "\n",
    "A list of SMILES strings can be read from a csv file, assuming that the filename is ```smiles_strings.csv```, the strings are in the first column, and there are no headers."
   ]
  },
  {
   "cell_type": "code",
   "execution_count": null,
   "metadata": {},
   "outputs": [],
   "source": [
    "import pandas as pd\n",
    "smiles_str_list = pd.read_csv(\"smiles_strings.csv\", header=None, usecols=[0])[0].tolist()"
   ]
  },
  {
   "cell_type": "markdown",
   "metadata": {},
   "source": [
    "As another alternative, multiple SMILES strings can be directly copied from ChemDraw together at once, then split into a list here."
   ]
  },
  {
   "cell_type": "code",
   "execution_count": 2,
   "metadata": {},
   "outputs": [],
   "source": [
    "my_smiles = \"CC.CCC\"\n",
    "smiles_str_list = my_smiles.split(\".\")"
   ]
  },
  {
   "cell_type": "markdown",
   "metadata": {},
   "source": [
    "### Visualizing batch SMILES strings\n",
    "\n",
    "You probably don't want to visualize all the molecules at once, so the following will let you look at just a few."
   ]
  },
  {
   "cell_type": "code",
   "execution_count": 3,
   "metadata": {},
   "outputs": [
    {
     "ename": "NameError",
     "evalue": "name 'mols' is not defined",
     "output_type": "error",
     "traceback": [
      "\u001b[0;31m---------------------------------------------------------------------------\u001b[0m",
      "\u001b[0;31mNameError\u001b[0m                                 Traceback (most recent call last)",
      "\u001b[0;32m<ipython-input-3-1e6ec81f9545>\u001b[0m in \u001b[0;36m<module>\u001b[0;34m\u001b[0m\n\u001b[0;32m----> 1\u001b[0;31m \u001b[0;32mfor\u001b[0m \u001b[0mm\u001b[0m \u001b[0;32min\u001b[0m \u001b[0mmols\u001b[0m\u001b[0;34m[\u001b[0m\u001b[0;36m0\u001b[0m\u001b[0;34m:\u001b[0m\u001b[0mmin\u001b[0m\u001b[0;34m(\u001b[0m\u001b[0mlen\u001b[0m\u001b[0;34m(\u001b[0m\u001b[0mmols\u001b[0m\u001b[0;34m)\u001b[0m\u001b[0;34m,\u001b[0m\u001b[0;36m5\u001b[0m\u001b[0;34m)\u001b[0m\u001b[0;34m]\u001b[0m\u001b[0;34m:\u001b[0m\u001b[0;34m\u001b[0m\u001b[0;34m\u001b[0m\u001b[0m\n\u001b[0m\u001b[1;32m      2\u001b[0m     \u001b[0mdraw\u001b[0m\u001b[0;34m(\u001b[0m\u001b[0mm\u001b[0m\u001b[0;34m.\u001b[0m\u001b[0mmol\u001b[0m\u001b[0;34m)\u001b[0m\u001b[0;34m\u001b[0m\u001b[0;34m\u001b[0m\u001b[0m\n",
      "\u001b[0;31mNameError\u001b[0m: name 'mols' is not defined"
     ]
    }
   ],
   "source": [
    "for m in mols[0:min(len(mols),5)]:\n",
    "    draw(m.mol) "
   ]
  },
  {
   "cell_type": "markdown",
   "metadata": {},
   "source": [
    "### Others comments\n",
    "\n",
    "You may find that switching `summary` to `False` makes `qstat` significantly quicker when there's large numbers of running/queued jobs.\n",
    "\n",
    "Otherwise working with large batches should work just the same! \n"
   ]
  },
  {
   "cell_type": "markdown",
   "metadata": {},
   "source": []
  }
 ],
 "metadata": {
  "kernelspec": {
   "display_name": "Python 3 (ipykernel)",
   "language": "python",
   "name": "python3"
  },
  "language_info": {
   "codemirror_mode": {
    "name": "ipython",
    "version": 3
   },
   "file_extension": ".py",
   "mimetype": "text/x-python",
   "name": "python",
   "nbconvert_exporter": "python",
   "pygments_lexer": "ipython3",
   "version": "3.8.16"
  },
  "vscode": {
   "interpreter": {
    "hash": "684abc938bfc2add5f36d7d052a0aef4b60f3eff60006b82ce647595b8c2f083"
   }
  }
 },
 "nbformat": 4,
 "nbformat_minor": 2
}
