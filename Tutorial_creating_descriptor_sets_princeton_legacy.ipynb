{
 "cells": [
  {
   "cell_type": "markdown",
   "metadata": {},
   "source": [
    "### Startup imports"
   ]
  },
  {
   "cell_type": "code",
   "execution_count": 1,
   "metadata": {},
   "outputs": [
    {
     "ename": "ImportError",
     "evalue": "cannot import name 'GetSymbol' from 'autoqchem.molecule' (/Users/mac/Desktop/general-code/doyle-lab-ucla/auto-qchem/autoqchem/molecule.py)",
     "output_type": "error",
     "traceback": [
      "\u001B[0;31m---------------------------------------------------------------------------\u001B[0m",
      "\u001B[0;31mImportError\u001B[0m                               Traceback (most recent call last)",
      "\u001B[0;32m/var/folders/l9/h3jppwwn11b0c6cct25t47yh0000gn/T/ipykernel_17700/3915690804.py\u001B[0m in \u001B[0;36m<module>\u001B[0;34m\u001B[0m\n\u001B[1;32m      1\u001B[0m \u001B[0;32mimport\u001B[0m \u001B[0mpandas\u001B[0m \u001B[0;32mas\u001B[0m \u001B[0mpd\u001B[0m\u001B[0;34m\u001B[0m\u001B[0;34m\u001B[0m\u001B[0m\n\u001B[1;32m      2\u001B[0m \u001B[0;34m\u001B[0m\u001B[0m\n\u001B[0;32m----> 3\u001B[0;31m \u001B[0;32mfrom\u001B[0m \u001B[0mautoqchem\u001B[0m\u001B[0;34m.\u001B[0m\u001B[0mmolecule\u001B[0m \u001B[0;32mimport\u001B[0m \u001B[0mmolecule\u001B[0m\u001B[0;34m\u001B[0m\u001B[0;34m\u001B[0m\u001B[0m\n\u001B[0m\u001B[1;32m      4\u001B[0m \u001B[0;32mfrom\u001B[0m \u001B[0mautoqchem\u001B[0m\u001B[0;34m.\u001B[0m\u001B[0mslurm_manager\u001B[0m \u001B[0;32mimport\u001B[0m \u001B[0mslurm_manager\u001B[0m\u001B[0;34m\u001B[0m\u001B[0;34m\u001B[0m\u001B[0m\n\u001B[1;32m      5\u001B[0m \u001B[0;32mfrom\u001B[0m \u001B[0mautoqchem\u001B[0m\u001B[0;34m.\u001B[0m\u001B[0mhelper_classes\u001B[0m \u001B[0;32mimport\u001B[0m \u001B[0mslurm_status\u001B[0m\u001B[0;34m\u001B[0m\u001B[0;34m\u001B[0m\u001B[0m\n",
      "\u001B[0;32m~/Desktop/general-code/doyle-lab-ucla/auto-qchem/autoqchem/molecule.py\u001B[0m in \u001B[0;36m<module>\u001B[0;34m\u001B[0m\n\u001B[1;32m     16\u001B[0m \u001B[0;34m\u001B[0m\u001B[0m\n\u001B[1;32m     17\u001B[0m \u001B[0;31m# from autoqchem.openbabel_utils import *\u001B[0m\u001B[0;34m\u001B[0m\u001B[0;34m\u001B[0m\u001B[0;34m\u001B[0m\u001B[0m\n\u001B[0;32m---> 18\u001B[0;31m \u001B[0;32mfrom\u001B[0m \u001B[0mautoqchem\u001B[0m\u001B[0;34m.\u001B[0m\u001B[0mrdkit_utils\u001B[0m \u001B[0;32mimport\u001B[0m \u001B[0;34m*\u001B[0m\u001B[0;34m\u001B[0m\u001B[0;34m\u001B[0m\u001B[0m\n\u001B[0m\u001B[1;32m     19\u001B[0m \u001B[0;34m\u001B[0m\u001B[0m\n\u001B[1;32m     20\u001B[0m \u001B[0mlogger\u001B[0m \u001B[0;34m=\u001B[0m \u001B[0mlogging\u001B[0m\u001B[0;34m.\u001B[0m\u001B[0mgetLogger\u001B[0m\u001B[0;34m(\u001B[0m\u001B[0m__name__\u001B[0m\u001B[0;34m)\u001B[0m\u001B[0;34m\u001B[0m\u001B[0;34m\u001B[0m\u001B[0m\n",
      "\u001B[0;32m~/Desktop/general-code/doyle-lab-ucla/auto-qchem/autoqchem/rdkit_utils.py\u001B[0m in \u001B[0;36m<module>\u001B[0;34m\u001B[0m\n\u001B[1;32m      7\u001B[0m \u001B[0;32mfrom\u001B[0m \u001B[0mrdkit\u001B[0m\u001B[0;34m.\u001B[0m\u001B[0mChem\u001B[0m \u001B[0;32mimport\u001B[0m \u001B[0mAllChem\u001B[0m\u001B[0;34m\u001B[0m\u001B[0;34m\u001B[0m\u001B[0m\n\u001B[1;32m      8\u001B[0m \u001B[0;34m\u001B[0m\u001B[0m\n\u001B[0;32m----> 9\u001B[0;31m \u001B[0;32mfrom\u001B[0m \u001B[0mautoqchem\u001B[0m\u001B[0;34m.\u001B[0m\u001B[0mmolecule\u001B[0m \u001B[0;32mimport\u001B[0m \u001B[0mGetSymbol\u001B[0m\u001B[0;34m\u001B[0m\u001B[0;34m\u001B[0m\u001B[0m\n\u001B[0m\u001B[1;32m     10\u001B[0m \u001B[0;32mfrom\u001B[0m \u001B[0mautoqchem\u001B[0m\u001B[0;34m.\u001B[0m\u001B[0mhelper_classes\u001B[0m \u001B[0;32mimport\u001B[0m \u001B[0mslurm_status\u001B[0m\u001B[0;34m,\u001B[0m \u001B[0msge_status\u001B[0m\u001B[0;34m\u001B[0m\u001B[0;34m\u001B[0m\u001B[0m\n\u001B[1;32m     11\u001B[0m \u001B[0;32mfrom\u001B[0m \u001B[0mautoqchem\u001B[0m\u001B[0;34m.\u001B[0m\u001B[0mgaussian_log_extractor\u001B[0m \u001B[0;32mimport\u001B[0m \u001B[0mgaussian_log_extractor\u001B[0m\u001B[0;34m\u001B[0m\u001B[0;34m\u001B[0m\u001B[0m\n",
      "\u001B[0;31mImportError\u001B[0m: cannot import name 'GetSymbol' from 'autoqchem.molecule' (/Users/mac/Desktop/general-code/doyle-lab-ucla/auto-qchem/autoqchem/molecule.py)"
     ]
    }
   ],
   "source": [
    "import pandas as pd\n",
    "\n",
    "from autoqchem.molecule import molecule\n",
    "from autoqchem.slurm_manager import slurm_manager\n",
    "from autoqchem.helper_classes import slurm_status\n",
    "from autoqchem.draw_utils import draw\n",
    "\n",
    "import logging\n",
    "logging.basicConfig(level=logging.INFO)"
   ]
  },
  {
   "cell_type": "markdown",
   "metadata": {},
   "source": [
    "### Initialize the slurm manager\n",
    "\n",
    "Slurm manager is going to manage what jobs you have currently running, or created. It caches your information, so you can kill the notebook, turn-off your computer, go on vacation, and pick it up later. It will remember which jobs you haven't retrieved from the cluster, etc.\n",
    "\n",
    "Note: it won't ask you for login unless you execute a method that requires remote access"
   ]
  },
  {
   "cell_type": "code",
   "execution_count": 4,
   "metadata": {},
   "outputs": [],
   "source": [
    "sm=slurm_manager(user='zuranski', host='della.princeton.edu')"
   ]
  },
  {
   "cell_type": "markdown",
   "metadata": {},
   "source": [
    "### Provide some smiles string(s)\n",
    "\n",
    "and copy into them into ```my_smiles``` variable. It's a list of strings (a Python list can be of any size)"
   ]
  },
  {
   "cell_type": "code",
   "execution_count": 5,
   "metadata": {},
   "outputs": [],
   "source": [
    "my_smiles=[\n",
    "    \"C(C1C(C(C(C(O1)O)O)O)O)O\",\n",
    "    \"c1ccc(F)cc1\",\n",
    "]"
   ]
  },
  {
   "cell_type": "markdown",
   "metadata": {},
   "source": [
    "For a list of smiles, you can also read them out from a csv file in this way, assumed file name ```smiles_strings.csv```, also assuming the strings are in the first column, and there are no headers"
   ]
  },
  {
   "cell_type": "code",
   "execution_count": 6,
   "metadata": {},
   "outputs": [],
   "source": [
    "# my_smiles = pd.read_csv(\"smiles_strings.csv\", header=None, usecols=[0])[0].tolist()\n",
    "# my_smiles"
   ]
  },
  {
   "cell_type": "markdown",
   "metadata": {},
   "source": [
    "### Initialize the molecules and generate conformations\n",
    "\n",
    "We will use some ```for``` loops to loop over the smiles"
   ]
  },
  {
   "cell_type": "code",
   "execution_count": 7,
   "metadata": {},
   "outputs": [],
   "source": [
    "mols = []\n",
    "for smile in my_smiles:\n",
    "    mols.append(molecule(smile, num_conf=10))"
   ]
  },
  {
   "cell_type": "markdown",
   "metadata": {},
   "source": [
    "Draw some molecules"
   ]
  },
  {
   "cell_type": "code",
   "execution_count": 12,
   "metadata": {},
   "outputs": [
    {
     "data": {
      "application/vnd.jupyter.widget-view+json": {
       "model_id": "9dc29f65634f4957944651b8cd2caa0f",
       "version_major": 2,
       "version_minor": 0
      },
      "text/plain": [
       "interactive(children=(Dropdown(description='confId', options=(0, 1, 2, 3, 4, 5, 6, 7), value=0), Output()), _d…"
      ]
     },
     "metadata": {},
     "output_type": "display_data"
    },
    {
     "data": {
      "text/plain": [
       "<function autoqchem.draw_utils._graph_conf(m, confId=0, energies=[])>"
      ]
     },
     "execution_count": 12,
     "metadata": {},
     "output_type": "execute_result"
    }
   ],
   "source": [
    "draw(mols[0].mol)"
   ]
  },
  {
   "cell_type": "markdown",
   "metadata": {},
   "source": [
    "### Create gaussian jobs for each conformation"
   ]
  },
  {
   "cell_type": "code",
   "execution_count": 70,
   "metadata": {},
   "outputs": [
    {
     "name": "stderr",
     "output_type": "stream",
     "text": [
      "WARNING:autoqchem.slurm_manager:Molecule InChI=1S/C6H5F/c7-6-4-2-1-3-5-6/h1-5H already exists with the same Gaussian config with tags ['test_AMZ']. Not creating jobs.\n"
     ]
    }
   ],
   "source": [
    "for mol in mols[1:]:\n",
    "    sm.create_jobs_for_molecule(mol, light_basis_set='6-31G**', solvent='Ethanol')"
   ]
  },
  {
   "cell_type": "code",
   "execution_count": 81,
   "metadata": {},
   "outputs": [],
   "source": [
    "# view the workflow status of all jobs\n",
    "sm.get_job_stat(split_by_can=True)"
   ]
  },
  {
   "cell_type": "markdown",
   "metadata": {},
   "source": [
    "### Submit the jobs to the server \n",
    "\n",
    "if you are not connected, it will ask for password + Duo"
   ]
  },
  {
   "cell_type": "code",
   "execution_count": 79,
   "metadata": {
    "scrolled": true
   },
   "outputs": [],
   "source": [
    "sm.submit_jobs()"
   ]
  },
  {
   "cell_type": "markdown",
   "metadata": {},
   "source": [
    "Check the status of the jobs on the server"
   ]
  },
  {
   "cell_type": "code",
   "execution_count": 75,
   "metadata": {},
   "outputs": [
    {
     "data": {
      "text/html": [
       "<div>\n",
       "<style scoped>\n",
       "    .dataframe tbody tr th:only-of-type {\n",
       "        vertical-align: middle;\n",
       "    }\n",
       "\n",
       "    .dataframe tbody tr th {\n",
       "        vertical-align: top;\n",
       "    }\n",
       "\n",
       "    .dataframe thead th {\n",
       "        text-align: right;\n",
       "    }\n",
       "</style>\n",
       "<table border=\"1\" class=\"dataframe\">\n",
       "  <thead>\n",
       "    <tr style=\"text-align: right;\">\n",
       "      <th></th>\n",
       "      <th>JOBID</th>\n",
       "      <th>PARTITION</th>\n",
       "      <th>NAME</th>\n",
       "      <th>USER</th>\n",
       "      <th>ST</th>\n",
       "      <th>TIME</th>\n",
       "      <th>NODES</th>\n",
       "      <th>NODELIST(REASON)</th>\n",
       "    </tr>\n",
       "  </thead>\n",
       "  <tbody>\n",
       "  </tbody>\n",
       "</table>\n",
       "</div>"
      ],
      "text/plain": [
       "Empty DataFrame\n",
       "Columns: [JOBID, PARTITION, NAME, USER, ST, TIME, NODES, NODELIST(REASON)]\n",
       "Index: []"
      ]
     },
     "execution_count": 75,
     "metadata": {},
     "output_type": "execute_result"
    }
   ],
   "source": [
    "sm.squeue(summary=False)"
   ]
  },
  {
   "cell_type": "markdown",
   "metadata": {},
   "source": [
    "### Retrieve jobs\n",
    "\n",
    "If there are some finished jobs the log files will be checked for completion and downloaded locally."
   ]
  },
  {
   "cell_type": "code",
   "execution_count": 76,
   "metadata": {},
   "outputs": [
    {
     "name": "stderr",
     "output_type": "stream",
     "text": [
      "INFO:autoqchem.slurm_manager:There are 0 running/pending jobs, 7 finished jobs.\n",
      "INFO:autoqchem.slurm_manager:Retrieving log files of finished jobs.\n",
      "INFO:autoqchem.slurm_manager:7 jobs finished successfully (all Gaussian steps finished normally). 0 jobs failed.\n"
     ]
    }
   ],
   "source": [
    "sm.retrieve_jobs()"
   ]
  },
  {
   "cell_type": "markdown",
   "metadata": {},
   "source": [
    "### Resubmit incomplete jobs"
   ]
  },
  {
   "cell_type": "code",
   "execution_count": 48,
   "metadata": {},
   "outputs": [
    {
     "name": "stderr",
     "output_type": "stream",
     "text": [
      "INFO:autoqchem.slurm_manager:There are no incomplete jobs to resubmit.\n"
     ]
    }
   ],
   "source": [
    "sm.resubmit_incomplete_jobs()"
   ]
  },
  {
   "cell_type": "markdown",
   "metadata": {},
   "source": [
    "### Upload molecules to the database"
   ]
  },
  {
   "cell_type": "code",
   "execution_count": 78,
   "metadata": {},
   "outputs": [
    {
     "name": "stderr",
     "output_type": "stream",
     "text": [
      "INFO:autoqchem.slurm_manager:There are 1 finished molecules ['C(C1C(C(C(C(O1)O)O)O)O)O'].\n",
      "INFO:autoqchem.slurm_manager:Molecule C(C1C(C(C(C(O1)O)O)O)O)O has 0 / 8 duplicate conformers.\n",
      "INFO:autoqchem.slurm_manager:Removing 0 / 8 jobs and log files that contain duplicate conformers.\n",
      "INFO:autoqchem.slurm_manager:Uploaded descriptors to DB for smiles: C(C1C(C(C(C(O1)O)O)O)O)O, number of conformers: 8, DB molecule id 61bbad58bb6b37fd936249b9.\n"
     ]
    }
   ],
   "source": [
    "sm.upload_done_molecules_to_db(tags=[\"test_AMZ\"])"
   ]
  }
 ],
 "metadata": {
  "kernelspec": {
   "display_name": "Python 3 (ipykernel)",
   "language": "python",
   "name": "python3"
  },
  "language_info": {
   "codemirror_mode": {
    "name": "ipython",
    "version": 3
   },
   "file_extension": ".py",
   "mimetype": "text/x-python",
   "name": "python",
   "nbconvert_exporter": "python",
   "pygments_lexer": "ipython3",
   "version": "3.7.11"
  }
 },
 "nbformat": 4,
 "nbformat_minor": 4
}
