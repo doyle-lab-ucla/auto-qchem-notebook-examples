{
 "cells": [
  {
   "cell_type": "markdown",
   "metadata": {},
   "source": [
    "### Import classes from autoqchem"
   ]
  },
  {
   "cell_type": "code",
   "execution_count": null,
   "metadata": {
    "ExecuteTime": {
     "start_time": "2023-05-30T17:06:15.393416Z",
     "end_time": "2023-05-30T17:06:25.859452Z"
    }
   },
   "outputs": [],
   "source": [
    "from autoqchem.molecule import molecule\n",
    "from autoqchem.slurm_manager import slurm_manager\n",
    "from autoqchem.draw_utils import draw"
   ]
  },
  {
   "cell_type": "markdown",
   "metadata": {},
   "source": [
    "### Set the level of logging\n",
    "Autoqchem prints out log messages, while the logger has various verbosity levels that you can set. If you are running for the first time \"INFO\" is good, once you are comfortable you can switch it to \"WARNING\" or \"ERROR\"."
   ]
  },
  {
   "cell_type": "code",
   "execution_count": null,
   "metadata": {
    "ExecuteTime": {
     "start_time": "2023-05-30T17:06:27.911393Z",
     "end_time": "2023-05-30T17:06:27.919047Z"
    }
   },
   "outputs": [],
   "source": [
    "import logging\n",
    "logging.basicConfig(level=logging.INFO)"
   ]
  },
  {
   "cell_type": "markdown",
   "metadata": {},
   "source": [
    "We will use a single smiles string for this test"
   ]
  },
  {
   "cell_type": "code",
   "execution_count": null,
   "metadata": {
    "ExecuteTime": {
     "start_time": "2023-05-30T17:06:29.084941Z",
     "end_time": "2023-05-30T17:06:29.088659Z"
    }
   },
   "outputs": [],
   "source": [
    "smiles_str = \"C(C)(CP(c1ccccc1)c1ccccc1)(CP(c1ccccc1)c1ccccc1)[4CH2][1P]([2c]1ccccc1)[3c]1ccccc1\""
   ]
  },
  {
   "cell_type": "markdown",
   "metadata": {},
   "source": [
    "### Initialize the molecule from smiles"
   ]
  },
  {
   "cell_type": "code",
   "execution_count": null,
   "metadata": {
    "ExecuteTime": {
     "start_time": "2023-05-30T17:06:30.478026Z",
     "end_time": "2023-05-30T17:06:32.208067Z"
    }
   },
   "outputs": [],
   "source": [
    "mol = molecule(smiles_str, num_conf=20)"
   ]
  },
  {
   "cell_type": "markdown",
   "metadata": {},
   "source": [
    "### Draw it!\n",
    "It should look decent, OpenBabel performs MMFF94 optimization with a conformer search. If it doesn't look good, there might be issues with openbabel installation (this is rare, but can happen)."
   ]
  },
  {
   "cell_type": "code",
   "execution_count": null,
   "metadata": {
    "ExecuteTime": {
     "start_time": "2023-05-30T17:06:33.143142Z",
     "end_time": "2023-05-30T17:06:33.178575Z"
    }
   },
   "outputs": [],
   "source": [
    "draw(mol.mol)"
   ]
  },
  {
   "cell_type": "markdown",
   "metadata": {},
   "source": [
    "### Test whether you can access slurm\n",
    "If you have an account on della, feel free to change host to ```della.princeton.edu```. We will use ```adroit.princeton.edu```"
   ]
  },
  {
   "cell_type": "markdown",
   "metadata": {},
   "source": [
    "### Initialize the slurm manager\n",
    "change user parameter to your user"
   ]
  },
  {
   "cell_type": "code",
   "execution_count": null,
   "metadata": {
    "ExecuteTime": {
     "start_time": "2023-05-30T17:06:36.853883Z",
     "end_time": "2023-05-30T17:06:36.861608Z"
    }
   },
   "outputs": [],
   "source": [
    "sm = slurm_manager(user='zuranski', host='adroit.princeton.edu')"
   ]
  },
  {
   "cell_type": "markdown",
   "metadata": {},
   "source": [
    "### Verify that you can create an ssh tunnel into the remote server\n",
    "Follow prompts for password and duo authentication. This tunnel will be used to manage jobs from within the notebook"
   ]
  },
  {
   "cell_type": "code",
   "execution_count": null,
   "metadata": {},
   "outputs": [],
   "source": [
    "sm.connect()"
   ]
  },
  {
   "cell_type": "markdown",
   "metadata": {},
   "source": [
    "### Check that you can see your jobs on the remote server\n",
    "If the following command returns a table with your jobs currently running on the server, it's a success. If you have no jobs running, only a header row will be displayed."
   ]
  },
  {
   "cell_type": "code",
   "execution_count": null,
   "metadata": {},
   "outputs": [],
   "source": [
    "sm.squeue(summary=False)"
   ]
  },
  {
   "cell_type": "code",
   "execution_count": null,
   "metadata": {},
   "outputs": [],
   "source": []
  }
 ],
 "metadata": {
  "kernelspec": {
   "display_name": "Python 3 (ipykernel)",
   "language": "python",
   "name": "python3"
  },
  "language_info": {
   "codemirror_mode": {
    "name": "ipython",
    "version": 3
   },
   "file_extension": ".py",
   "mimetype": "text/x-python",
   "name": "python",
   "nbconvert_exporter": "python",
   "pygments_lexer": "ipython3",
   "version": "3.7.11"
  }
 },
 "nbformat": 4,
 "nbformat_minor": 2
}
